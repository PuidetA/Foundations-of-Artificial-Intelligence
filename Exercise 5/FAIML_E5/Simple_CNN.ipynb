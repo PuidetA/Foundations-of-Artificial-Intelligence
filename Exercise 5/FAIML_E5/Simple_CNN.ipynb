{
  "cells": [
    {
      "cell_type": "markdown",
      "metadata": {},
      "source": [
        "Credits: https://github.com/Holmes-Alan/ImageNet_sample/tree/main"
      ]
    },
    {
      "cell_type": "code",
      "execution_count": null,
      "metadata": {
        "id": "ZPJwODgZUt5z"
      },
      "outputs": [],
      "source": [
        "import torch\n",
        "import torchvision"
      ]
    },
    {
      "cell_type": "code",
      "execution_count": null,
      "metadata": {
        "colab": {
          "base_uri": "https://localhost:8080/"
        },
        "id": "pc2ohAZoW_bS",
        "outputId": "08a55065-55f9-4fa3-c38e-5624722bfe6f"
      },
      "outputs": [],
      "source": [
        "import torch\n",
        "from torchvision import models\n",
        "model = models.alexnet(pretrained=True)\n",
        "model.eval()"
      ]
    },
    {
      "cell_type": "code",
      "execution_count": null,
      "metadata": {
        "colab": {
          "base_uri": "https://localhost:8080/",
          "height": 660
        },
        "id": "Jz1WrnklYsDs",
        "outputId": "4dc87c2c-6459-4232-e1fc-79ce10f22fa1"
      },
      "outputs": [],
      "source": [
        "# sample execution (requires torchvision)\n",
        "from PIL import Image\n",
        "import matplotlib.pyplot as plt\n",
        "from torchvision import transforms\n",
        "\n",
        "filename = './polar_bear.jpg'\n",
        "\n",
        "input_image = Image.open(filename)\n",
        "plt.imshow(input_image)\n",
        "plt.axis('off')\n",
        "\n",
        "preprocess = transforms.Compose([\n",
        "    transforms.Resize(256),\n",
        "    transforms.CenterCrop(224),\n",
        "    transforms.ToTensor(),\n",
        "    transforms.Normalize(mean=[0.485, 0.456, 0.406], std=[0.229, 0.224, 0.225]),\n",
        "])\n",
        "input_tensor = preprocess(input_image)\n",
        "input_batch = input_tensor.unsqueeze(0) # create a mini-batch as expected by the model\n",
        "\n",
        "# move the input and model to GPU for speed if available\n",
        "if torch.cuda.is_available():\n",
        "    input_batch = input_batch.to('cuda')\n",
        "    model.to('cuda')\n",
        "\n",
        "with torch.no_grad():\n",
        "    output = model(input_batch)\n",
        "\n",
        "# normalize the output as probability\n",
        "percentage = torch.nn.functional.softmax(output, dim=1)[0] * 100\n",
        "\n",
        "# Load Imagenet Synsets\n",
        "with open('./imagenet_synsets.txt', 'r') as f:\n",
        "    synsets = f.readlines()\n",
        "\n",
        "# len(synsets)==1001\n",
        "# sysnets[0] == background\n",
        "synsets = [x.strip() for x in synsets]\n",
        "splits = [line.split(' ') for line in synsets]\n",
        "key_to_classname = {spl[0]:' '.join(spl[1:]) for spl in splits}\n",
        "\n",
        "with open('./imagenet_classes.txt', 'r') as f:\n",
        "    class_id_to_key = f.readlines()\n",
        "\n",
        "class_id_to_key = [x.strip() for x in class_id_to_key]\n",
        "\n",
        "print('The best prediction:\\n')\n",
        "_, index = torch.max(output, 1)\n",
        "classname = key_to_classname[class_id_to_key[index[0]]]\n",
        "probability = percentage[index[0]].item()\n",
        "print(\"'{}': {}% is a '{}'\".format(filename, probability, classname))\n",
        "\n",
        "print('\\nTop 5 prediction:\\n')\n",
        "_, indices = torch.sort(output, descending=True)\n",
        "for idx in indices[0][:5]:\n",
        "    print(\"{}% is a '{}'\".format(percentage[idx].item(), key_to_classname[class_id_to_key[idx]]))"
      ]
    },
    {
      "cell_type": "markdown",
      "metadata": {},
      "source": [
        "Create classification reports for each image (like above)"
      ]
    },
    {
      "cell_type": "code",
      "execution_count": null,
      "metadata": {},
      "outputs": [],
      "source": []
    },
    {
      "cell_type": "markdown",
      "metadata": {},
      "source": [
        "Read imagenet_classes.txt file, and report how many classes are for classification."
      ]
    },
    {
      "cell_type": "code",
      "execution_count": null,
      "metadata": {},
      "outputs": [],
      "source": []
    },
    {
      "cell_type": "markdown",
      "metadata": {},
      "source": [
        "Read the code, and report what is the input image size and how many layers of operations in AlexNet"
      ]
    },
    {
      "cell_type": "markdown",
      "metadata": {},
      "source": []
    }
  ],
  "metadata": {
    "accelerator": "GPU",
    "colab": {
      "gpuType": "T4",
      "include_colab_link": true,
      "provenance": []
    },
    "kernelspec": {
      "display_name": "Python 3",
      "name": "python3"
    },
    "language_info": {
      "codemirror_mode": {
        "name": "ipython",
        "version": 3
      },
      "file_extension": ".py",
      "mimetype": "text/x-python",
      "name": "python",
      "nbconvert_exporter": "python",
      "pygments_lexer": "ipython3",
      "version": "3.12.0"
    }
  },
  "nbformat": 4,
  "nbformat_minor": 0
}
