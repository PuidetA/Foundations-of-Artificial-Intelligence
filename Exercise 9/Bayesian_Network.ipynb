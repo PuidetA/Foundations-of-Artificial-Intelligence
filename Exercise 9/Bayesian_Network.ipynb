{
  "cells": [
    {
      "cell_type": "code",
      "source": [
        "# This is to be able to execute the ipynb files. This was performed through Google colab\n",
        "!pip install cython\n",
        "!pip install \"vose<0.0.2\" --no-build-isolation\n",
        "!pip install sorobn\n",
        "!pip install graphviz"
      ],
      "metadata": {
        "colab": {
          "base_uri": "https://localhost:8080/"
        },
        "id": "BAskIffJUDJW",
        "outputId": "3a3b4d08-9952-4487-d50f-84aa1f8f3c1a"
      },
      "execution_count": 5,
      "outputs": [
        {
          "output_type": "stream",
          "name": "stdout",
          "text": [
            "Requirement already satisfied: cython in /usr/local/lib/python3.10/dist-packages (3.0.11)\n",
            "Collecting vose<0.0.2\n",
            "  Downloading vose-0.0.1.tar.gz (129 kB)\n",
            "\u001b[2K     \u001b[90m━━━━━━━━━━━━━━━━━━━━━━━━━━━━━━━━━━━━━━━━\u001b[0m \u001b[32m129.8/129.8 kB\u001b[0m \u001b[31m3.1 MB/s\u001b[0m eta \u001b[36m0:00:00\u001b[0m\n",
            "\u001b[?25h  Preparing metadata (pyproject.toml) ... \u001b[?25l\u001b[?25hdone\n",
            "Requirement already satisfied: numpy in /usr/local/lib/python3.10/dist-packages (from vose<0.0.2) (1.26.4)\n",
            "Building wheels for collected packages: vose\n",
            "  Building wheel for vose (pyproject.toml) ... \u001b[?25l\u001b[?25hdone\n",
            "  Created wheel for vose: filename=vose-0.0.1-cp310-cp310-linux_x86_64.whl size=456051 sha256=00ae7334d5efacd9ba886476fba459973b005031317894571ea07cc8648ce711\n",
            "  Stored in directory: /root/.cache/pip/wheels/7f/41/31/40f933f182decfa9300f85183d4043c5ed39fc941136e05ebc\n",
            "Successfully built vose\n",
            "Installing collected packages: vose\n",
            "Successfully installed vose-0.0.1\n",
            "Collecting sorobn\n",
            "  Downloading sorobn-0.3.0-py3-none-any.whl.metadata (551 bytes)\n",
            "Requirement already satisfied: numpy<2.0.0,>=1.24.2 in /usr/local/lib/python3.10/dist-packages (from sorobn) (1.26.4)\n",
            "Collecting pandas<2.0.0,>=1.5.3 (from sorobn)\n",
            "  Downloading pandas-1.5.3-cp310-cp310-manylinux_2_17_x86_64.manylinux2014_x86_64.whl.metadata (11 kB)\n",
            "Requirement already satisfied: vose<0.0.2,>=0.0.1 in /usr/local/lib/python3.10/dist-packages (from sorobn) (0.0.1)\n",
            "Requirement already satisfied: python-dateutil>=2.8.1 in /usr/local/lib/python3.10/dist-packages (from pandas<2.0.0,>=1.5.3->sorobn) (2.8.2)\n",
            "Requirement already satisfied: pytz>=2020.1 in /usr/local/lib/python3.10/dist-packages (from pandas<2.0.0,>=1.5.3->sorobn) (2024.2)\n",
            "Requirement already satisfied: six>=1.5 in /usr/local/lib/python3.10/dist-packages (from python-dateutil>=2.8.1->pandas<2.0.0,>=1.5.3->sorobn) (1.16.0)\n",
            "Downloading sorobn-0.3.0-py3-none-any.whl (17 kB)\n",
            "Downloading pandas-1.5.3-cp310-cp310-manylinux_2_17_x86_64.manylinux2014_x86_64.whl (12.1 MB)\n",
            "\u001b[2K   \u001b[90m━━━━━━━━━━━━━━━━━━━━━━━━━━━━━━━━━━━━━━━━\u001b[0m \u001b[32m12.1/12.1 MB\u001b[0m \u001b[31m53.7 MB/s\u001b[0m eta \u001b[36m0:00:00\u001b[0m\n",
            "\u001b[?25hInstalling collected packages: pandas, sorobn\n",
            "  Attempting uninstall: pandas\n",
            "    Found existing installation: pandas 2.2.2\n",
            "    Uninstalling pandas-2.2.2:\n",
            "      Successfully uninstalled pandas-2.2.2\n",
            "\u001b[31mERROR: pip's dependency resolver does not currently take into account all the packages that are installed. This behaviour is the source of the following dependency conflicts.\n",
            "cudf-cu12 24.10.1 requires pandas<2.2.3dev0,>=2.0, but you have pandas 1.5.3 which is incompatible.\n",
            "google-colab 1.0.0 requires pandas==2.2.2, but you have pandas 1.5.3 which is incompatible.\n",
            "mizani 0.13.0 requires pandas>=2.2.0, but you have pandas 1.5.3 which is incompatible.\n",
            "plotnine 0.14.0 requires pandas>=2.2.0, but you have pandas 1.5.3 which is incompatible.\n",
            "xarray 2024.10.0 requires pandas>=2.1, but you have pandas 1.5.3 which is incompatible.\u001b[0m\u001b[31m\n",
            "\u001b[0mSuccessfully installed pandas-1.5.3 sorobn-0.3.0\n",
            "Requirement already satisfied: graphviz in /usr/local/lib/python3.10/dist-packages (0.20.3)\n"
          ]
        }
      ]
    },
    {
      "cell_type": "markdown",
      "metadata": {
        "id": "WTt4jy2lV6Cp"
      },
      "source": [
        "# Learn to plot Bayesian Network"
      ]
    },
    {
      "cell_type": "code",
      "execution_count": 6,
      "metadata": {
        "id": "Y3CkOET-OhIx"
      },
      "outputs": [],
      "source": [
        "import graphviz\n",
        "\n",
        "dot = graphviz.Digraph(comment='alarm')\n",
        "dot.node('A', 'Burglary')\n",
        "dot.node('B', 'Earthquake')\n",
        "dot.node('C', 'Alarm')\n",
        "dot.node('D', 'John calls')\n",
        "dot.node('E', 'Mary calls')\n",
        "\n",
        "dot.edges(['AC', 'BC', 'CD', 'CE'])"
      ]
    },
    {
      "cell_type": "code",
      "execution_count": 7,
      "metadata": {
        "colab": {
          "base_uri": "https://localhost:8080/"
        },
        "id": "M6Er0F5HOyUp",
        "outputId": "465d6538-194d-4c63-addb-ace1415623d4"
      },
      "outputs": [
        {
          "output_type": "stream",
          "name": "stdout",
          "text": [
            "// alarm\n",
            "digraph {\n",
            "\tA [label=Burglary]\n",
            "\tB [label=Earthquake]\n",
            "\tC [label=Alarm]\n",
            "\tD [label=\"John calls\"]\n",
            "\tE [label=\"Mary calls\"]\n",
            "\tA -> C\n",
            "\tB -> C\n",
            "\tC -> D\n",
            "\tC -> E\n",
            "}\n",
            "\n"
          ]
        }
      ],
      "source": [
        "print(dot.source)"
      ]
    },
    {
      "cell_type": "code",
      "execution_count": 8,
      "metadata": {
        "colab": {
          "base_uri": "https://localhost:8080/",
          "height": 272
        },
        "id": "khVcYdyoOzZ4",
        "outputId": "6562478e-ecff-4f27-9c68-8ee3bad369a2"
      },
      "outputs": [
        {
          "output_type": "execute_result",
          "data": {
            "image/svg+xml": "<?xml version=\"1.0\" encoding=\"UTF-8\" standalone=\"no\"?>\n<!DOCTYPE svg PUBLIC \"-//W3C//DTD SVG 1.1//EN\"\n \"http://www.w3.org/Graphics/SVG/1.1/DTD/svg11.dtd\">\n<!-- Generated by graphviz version 2.43.0 (0)\n -->\n<!-- Title: %3 Pages: 1 -->\n<svg width=\"217pt\" height=\"188pt\"\n viewBox=\"0.00 0.00 216.84 188.00\" xmlns=\"http://www.w3.org/2000/svg\" xmlns:xlink=\"http://www.w3.org/1999/xlink\">\n<g id=\"graph0\" class=\"graph\" transform=\"scale(1 1) rotate(0) translate(4 184)\">\n<title>%3</title>\n<polygon fill=\"white\" stroke=\"transparent\" points=\"-4,4 -4,-184 212.84,-184 212.84,4 -4,4\"/>\n<!-- A -->\n<g id=\"node1\" class=\"node\">\n<title>A</title>\n<ellipse fill=\"none\" stroke=\"black\" cx=\"47.15\" cy=\"-162\" rx=\"42.49\" ry=\"18\"/>\n<text text-anchor=\"middle\" x=\"47.15\" y=\"-158.3\" font-family=\"Times,serif\" font-size=\"14.00\">Burglary</text>\n</g>\n<!-- C -->\n<g id=\"node3\" class=\"node\">\n<title>C</title>\n<ellipse fill=\"none\" stroke=\"black\" cx=\"102.15\" cy=\"-90\" rx=\"33.6\" ry=\"18\"/>\n<text text-anchor=\"middle\" x=\"102.15\" y=\"-86.3\" font-family=\"Times,serif\" font-size=\"14.00\">Alarm</text>\n</g>\n<!-- A&#45;&gt;C -->\n<g id=\"edge1\" class=\"edge\">\n<title>A&#45;&gt;C</title>\n<path fill=\"none\" stroke=\"black\" d=\"M59.9,-144.76C66.84,-135.93 75.57,-124.83 83.28,-115.01\"/>\n<polygon fill=\"black\" stroke=\"black\" points=\"86.03,-117.17 89.46,-107.15 80.53,-112.85 86.03,-117.17\"/>\n</g>\n<!-- B -->\n<g id=\"node2\" class=\"node\">\n<title>B</title>\n<ellipse fill=\"none\" stroke=\"black\" cx=\"158.15\" cy=\"-162\" rx=\"50.89\" ry=\"18\"/>\n<text text-anchor=\"middle\" x=\"158.15\" y=\"-158.3\" font-family=\"Times,serif\" font-size=\"14.00\">Earthquake</text>\n</g>\n<!-- B&#45;&gt;C -->\n<g id=\"edge2\" class=\"edge\">\n<title>B&#45;&gt;C</title>\n<path fill=\"none\" stroke=\"black\" d=\"M144.87,-144.41C137.87,-135.66 129.15,-124.75 121.41,-115.08\"/>\n<polygon fill=\"black\" stroke=\"black\" points=\"123.92,-112.61 114.94,-106.99 118.45,-116.98 123.92,-112.61\"/>\n</g>\n<!-- D -->\n<g id=\"node4\" class=\"node\">\n<title>D</title>\n<ellipse fill=\"none\" stroke=\"black\" cx=\"46.15\" cy=\"-18\" rx=\"46.29\" ry=\"18\"/>\n<text text-anchor=\"middle\" x=\"46.15\" y=\"-14.3\" font-family=\"Times,serif\" font-size=\"14.00\">John calls</text>\n</g>\n<!-- C&#45;&gt;D -->\n<g id=\"edge3\" class=\"edge\">\n<title>C&#45;&gt;D</title>\n<path fill=\"none\" stroke=\"black\" d=\"M89.44,-73.12C82.38,-64.29 73.45,-53.13 65.54,-43.24\"/>\n<polygon fill=\"black\" stroke=\"black\" points=\"68.17,-40.93 59.19,-35.31 62.71,-45.3 68.17,-40.93\"/>\n</g>\n<!-- E -->\n<g id=\"node5\" class=\"node\">\n<title>E</title>\n<ellipse fill=\"none\" stroke=\"black\" cx=\"159.15\" cy=\"-18\" rx=\"48.99\" ry=\"18\"/>\n<text text-anchor=\"middle\" x=\"159.15\" y=\"-14.3\" font-family=\"Times,serif\" font-size=\"14.00\">Mary calls</text>\n</g>\n<!-- C&#45;&gt;E -->\n<g id=\"edge4\" class=\"edge\">\n<title>C&#45;&gt;E</title>\n<path fill=\"none\" stroke=\"black\" d=\"M115.08,-73.12C122.16,-64.42 131.1,-53.45 139.06,-43.66\"/>\n<polygon fill=\"black\" stroke=\"black\" points=\"141.87,-45.76 145.47,-35.8 136.44,-41.34 141.87,-45.76\"/>\n</g>\n</g>\n</svg>\n",
            "text/plain": [
              "<graphviz.graphs.Digraph at 0x7c53a0ece2f0>"
            ]
          },
          "metadata": {},
          "execution_count": 8
        }
      ],
      "source": [
        "dot.render('round_table', directory='figures', format='svg', cleanup=True, view=True)\n",
        "dot"
      ]
    },
    {
      "cell_type": "markdown",
      "metadata": {
        "id": "sFgyZBvyWBzh"
      },
      "source": [
        "**Task 1: convert the graph to Laplacian matrix (in degree), do this either on paper or just write out the matrix here**"
      ]
    },
    {
      "cell_type": "markdown",
      "source": [
        "![matrices.png](data:image/png;base64,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)"
      ],
      "metadata": {
        "id": "Xh3TBXjza-0U"
      }
    },
    {
      "cell_type": "markdown",
      "metadata": {
        "id": "np9ZUrUzUARw"
      },
      "source": []
    },
    {
      "cell_type": "markdown",
      "metadata": {
        "id": "fQvG0YBTWIDa"
      },
      "source": [
        "# Bayesian Network consutrction and inference"
      ]
    },
    {
      "cell_type": "markdown",
      "metadata": {
        "id": "Vx9w5VI9WU7x"
      },
      "source": [
        "Read \"alarm.png\" file from the github link, use sorobn to construct the bayesian network"
      ]
    },
    {
      "cell_type": "code",
      "execution_count": 9,
      "metadata": {
        "id": "PXaxL3eZPAlg"
      },
      "outputs": [],
      "source": [
        "import sorobn as hh\n",
        "import pandas as pd\n",
        "\n",
        "bn = hh.BayesNet(\n",
        "    ('Burglary', 'Alarm'),\n",
        "    ('Earthquake', 'Alarm'),\n",
        "    ('Alarm', 'John calls'),\n",
        "    ('Alarm', 'Mary calls'),\n",
        "    seed=42\n",
        "  )\n",
        "\n",
        "# P(Burglary)\n",
        "bn.P['Burglary'] = pd.Series({False: .999, True: .001}) # P(Burglary=True) = 0.001, P(Burglary=False) = 0.999\n",
        "\n",
        "# P(Earthquake)\n",
        "bn.P['Earthquake'] = pd.Series({False: .998, True: .002}) # P(Earthquake=True) = 0.002, P(Earthquake=False) = 0.998\n",
        "\n",
        "# P(Alarm | Burglary, Earthquake)\n",
        "bn.P['Alarm'] = pd.Series({\n",
        "              (True, True, True): .95, # P(Alarm=True | Burglary=True, Earthquake=True) = 0.95\n",
        "              (True, True, False): .05, # P(Alarm=False | Burglary=True, Earthquake=True) = 0.05\n",
        "\n",
        "              (True, False, True): .94, # P(Alarm=True | Burglary=True, Earthquake=False) = 0.94\n",
        "              (True, False, False): .06, # P(Alarm=False | Burglary=True, Earthquake=False) = 0.06\n",
        "\n",
        "              (False, True, True): .29, # P(Alarm=True | Burglary=False, Earthquake=True) = 0.29\n",
        "              (False, True, False): .71, # P(Alarm=False | Burglary=False, Earthquake=True) = 0.71\n",
        "\n",
        "              (False, False, True): .001, # P(Alarm=True | Burglary=False, Earthquake=False) = 0.001\n",
        "              (False, False, False): .999 # P(Alarm=False | Burglary=False, Earthquake=False) = 0.999\n",
        "          })\n",
        "\n",
        "\n",
        "\n",
        "\n",
        "# P(John calls | Alarm)\n",
        "bn.P['John calls'] = pd.Series({\n",
        "     (True, True): .9, # P(John calls=True | Alarm=True) = 0.9\n",
        "     (True, False): .1, # P(John calls=False | Alarm=True) = 0.1\n",
        "     (False, True): .05,  # P(John calls=True | Alarm=False) = 0.05\n",
        "     (False, False): .95  # P(John calls=False | Alarm=False) = 0.95\n",
        " })\n",
        "\n",
        "# P(Mary calls | Alarm)\n",
        "bn.P['Mary calls'] = pd.Series({\n",
        "     (True, True): .7, # P(Mary calls=True | Alarm=True) = 0.7\n",
        "     (True, False): .3,   # P(Mary calls=False | Alarm=True) = 0.3\n",
        "     (False, True): .01, # P(Mary calls=True | Alarm=False) = 0.01\n",
        "     (False, False): .99 # P(Mary calls=False | Alarm=False) = 0.99\n",
        " })\n"
      ]
    },
    {
      "cell_type": "markdown",
      "metadata": {
        "id": "PMUZD0buWfBZ"
      },
      "source": [
        "Make the network"
      ]
    },
    {
      "cell_type": "code",
      "execution_count": 10,
      "metadata": {
        "id": "6O7-OBvrPT0J"
      },
      "outputs": [],
      "source": [
        "bn.prepare()"
      ]
    },
    {
      "cell_type": "markdown",
      "metadata": {
        "id": "1KKg3JS_WgxB"
      },
      "source": [
        "# Bayesian network inference"
      ]
    },
    {
      "cell_type": "markdown",
      "metadata": {
        "id": "DQMfVStSPXeZ"
      },
      "source": [
        "What is the likelihood of there being a burglary if both John and Mary call?"
      ]
    },
    {
      "cell_type": "code",
      "execution_count": 11,
      "metadata": {
        "colab": {
          "base_uri": "https://localhost:8080/",
          "height": 178
        },
        "id": "feYONoD5PWPx",
        "outputId": "9a061e18-d453-4b18-b4e3-5c7f93467ce4"
      },
      "outputs": [
        {
          "output_type": "execute_result",
          "data": {
            "text/plain": [
              "Burglary\n",
              "False    0.715828\n",
              "True     0.284172\n",
              "Name: P(Burglary), dtype: float64"
            ],
            "text/html": [
              "<div>\n",
              "<style scoped>\n",
              "    .dataframe tbody tr th:only-of-type {\n",
              "        vertical-align: middle;\n",
              "    }\n",
              "\n",
              "    .dataframe tbody tr th {\n",
              "        vertical-align: top;\n",
              "    }\n",
              "\n",
              "    .dataframe thead th {\n",
              "        text-align: right;\n",
              "    }\n",
              "</style>\n",
              "<table border=\"1\" class=\"dataframe\">\n",
              "  <thead>\n",
              "    <tr style=\"text-align: right;\">\n",
              "      <th></th>\n",
              "      <th>P(Burglary)</th>\n",
              "    </tr>\n",
              "    <tr>\n",
              "      <th>Burglary</th>\n",
              "      <th></th>\n",
              "    </tr>\n",
              "  </thead>\n",
              "  <tbody>\n",
              "    <tr>\n",
              "      <th>False</th>\n",
              "      <td>0.715828</td>\n",
              "    </tr>\n",
              "    <tr>\n",
              "      <th>True</th>\n",
              "      <td>0.284172</td>\n",
              "    </tr>\n",
              "  </tbody>\n",
              "</table>\n",
              "</div><br><label><b>dtype:</b> float64</label>"
            ]
          },
          "metadata": {},
          "execution_count": 11
        }
      ],
      "source": [
        "bn.query('Burglary', event={'Mary calls': True, 'John calls': True})"
      ]
    },
    {
      "cell_type": "markdown",
      "metadata": {
        "id": "wueyKGvAPdSh"
      },
      "source": [
        "What are the chances that John and Mary call if an earthquake happens?"
      ]
    },
    {
      "cell_type": "code",
      "execution_count": 12,
      "metadata": {
        "colab": {
          "base_uri": "https://localhost:8080/",
          "height": 241
        },
        "id": "utk9ZNVePbRJ",
        "outputId": "490c1e63-e97d-4c68-f54f-a8a525df223e"
      },
      "outputs": [
        {
          "output_type": "execute_result",
          "data": {
            "text/plain": [
              "John calls  Mary calls\n",
              "False       False         0.675854\n",
              "            True          0.027085\n",
              "True        False         0.113591\n",
              "            True          0.183470\n",
              "Name: P(John calls, Mary calls), dtype: float64"
            ],
            "text/html": [
              "<div>\n",
              "<style scoped>\n",
              "    .dataframe tbody tr th:only-of-type {\n",
              "        vertical-align: middle;\n",
              "    }\n",
              "\n",
              "    .dataframe tbody tr th {\n",
              "        vertical-align: top;\n",
              "    }\n",
              "\n",
              "    .dataframe thead th {\n",
              "        text-align: right;\n",
              "    }\n",
              "</style>\n",
              "<table border=\"1\" class=\"dataframe\">\n",
              "  <thead>\n",
              "    <tr style=\"text-align: right;\">\n",
              "      <th></th>\n",
              "      <th></th>\n",
              "      <th>P(John calls, Mary calls)</th>\n",
              "    </tr>\n",
              "    <tr>\n",
              "      <th>John calls</th>\n",
              "      <th>Mary calls</th>\n",
              "      <th></th>\n",
              "    </tr>\n",
              "  </thead>\n",
              "  <tbody>\n",
              "    <tr>\n",
              "      <th rowspan=\"2\" valign=\"top\">False</th>\n",
              "      <th>False</th>\n",
              "      <td>0.675854</td>\n",
              "    </tr>\n",
              "    <tr>\n",
              "      <th>True</th>\n",
              "      <td>0.027085</td>\n",
              "    </tr>\n",
              "    <tr>\n",
              "      <th rowspan=\"2\" valign=\"top\">True</th>\n",
              "      <th>False</th>\n",
              "      <td>0.113591</td>\n",
              "    </tr>\n",
              "    <tr>\n",
              "      <th>True</th>\n",
              "      <td>0.183470</td>\n",
              "    </tr>\n",
              "  </tbody>\n",
              "</table>\n",
              "</div><br><label><b>dtype:</b> float64</label>"
            ]
          },
          "metadata": {},
          "execution_count": 12
        }
      ],
      "source": [
        "bn.query('John calls', 'Mary calls', event={'Earthquake': True})"
      ]
    },
    {
      "cell_type": "markdown",
      "metadata": {
        "id": "58DYDs7_UAR0"
      },
      "source": [
        "Practice.png"
      ]
    },
    {
      "cell_type": "code",
      "execution_count": 14,
      "metadata": {
        "id": "DRZyT17rUAR0"
      },
      "outputs": [],
      "source": [
        "bn = hh.BayesNet(\n",
        "    (\"A\", \"B\"),\n",
        "    (\"B\", \"F\"),\n",
        "    (\"C\", \"D\"),\n",
        "    (\"D\", \"F\"),\n",
        "    seed=42,\n",
        ") # Correct connections between nodes, just need to add probabilities like above\n",
        "\n",
        "# Essentially follow the same format as above, just adjust the values to fit the practice.png\n",
        "\n",
        "# P(Burglary)\n",
        "bn.P['Burglary'] = pd.Series({False: .999, True: .001}) # P(Burglary=True) = 0.001, P(Burglary=False) = 0.999\n",
        "\n",
        "# P(Earthquake)\n",
        "bn.P['Earthquake'] = pd.Series({False: .998, True: .002}) # P(Earthquake=True) = 0.002, P(Earthquake=False) = 0.998\n",
        "\n",
        "# P(Alarm | Burglary, Earthquake)\n",
        "bn.P['Alarm'] = pd.Series({\n",
        "              (True, True, True): .95, # P(Alarm=True | Burglary=True, Earthquake=True) = 0.95\n",
        "              (True, True, False): .05, # P(Alarm=False | Burglary=True, Earthquake=True) = 0.05\n",
        "\n",
        "              (True, False, True): .94, # P(Alarm=True | Burglary=True, Earthquake=False) = 0.94\n",
        "              (True, False, False): .06, # P(Alarm=False | Burglary=True, Earthquake=False) = 0.06\n",
        "\n",
        "              (False, True, True): .29, # P(Alarm=True | Burglary=False, Earthquake=True) = 0.29\n",
        "              (False, True, False): .71, # P(Alarm=False | Burglary=False, Earthquake=True) = 0.71\n",
        "\n",
        "              (False, False, True): .001, # P(Alarm=True | Burglary=False, Earthquake=False) = 0.001\n",
        "              (False, False, False): .999 # P(Alarm=False | Burglary=False, Earthquake=False) = 0.999\n",
        "          })\n",
        "\n",
        "\n",
        "\n",
        "\n",
        "# P(John calls | Alarm)\n",
        "bn.P['John calls'] = pd.Series({\n",
        "     (True, True): .9, # P(John calls=True | Alarm=True) = 0.9\n",
        "     (True, False): .1, # P(John calls=False | Alarm=True) = 0.1\n",
        "     (False, True): .05,  # P(John calls=True | Alarm=False) = 0.05\n",
        "     (False, False): .95  # P(John calls=False | Alarm=False) = 0.95\n",
        " })\n",
        "\n",
        "# P(Mary calls | Alarm)\n",
        "bn.P['Mary calls'] = pd.Series({\n",
        "     (True, True): .7, # P(Mary calls=True | Alarm=True) = 0.7\n",
        "     (True, False): .3,   # P(Mary calls=False | Alarm=True) = 0.3\n",
        "     (False, True): .01, # P(Mary calls=True | Alarm=False) = 0.01\n",
        "     (False, False): .99 # P(Mary calls=False | Alarm=False) = 0.99\n",
        " })\n",
        "\n",
        "bn.P['A'] = pd.Series({False: .9, True: .1})\n",
        "\n",
        "bn.P['B'] = pd.Series({\n",
        "     (True, True): .4, # P(B = True | A=True) = 0.4\n",
        "     (True, False): .6, # P(B = False | A=True) = 0.6\n",
        "     (False, True): .9,  # P(B = True | A=False) = 0.9\n",
        "     (False, False): .1  # P(B = False | A=False) = 0.1\n",
        " })\n",
        "\n",
        "bn.P['C'] = pd.Series({False: .9, True: .1})\n",
        "\n",
        "bn.P['D'] = pd.Series({\n",
        "     (True, True): .3, # P(D = True | C=True) = 0.3\n",
        "     (True, False): .7, # P(D = False | C=True) = 0.7\n",
        "     (False, True): .6,  # P(D = True | C=False) = 0.6\n",
        "     (False, False): .4  # P(D = False | C=False) = 0.4\n",
        " })\n",
        "\n",
        "bn.P['F'] = pd.Series({\n",
        "              (True, True, True): .7, # P(F=True | B=True, D=True) = 0.7\n",
        "              (True, True, False): .3, # P(F=False | B=True, D=True) = 0.3\n",
        "\n",
        "              (True, False, True): .4, # P(F=True | B=True, D=False) = 0.4\n",
        "              (True, False, False): .6, # P(F=False | B=True, D=False) = 0.6\n",
        "\n",
        "              (False, True, True): .2, # P(F=True | B=False, D=True) = 0.2\n",
        "              (False, True, False): .8, # P(F=False | B=False, D=True) = 0.8\n",
        "\n",
        "              (False, False, True): 0, # P(F=True | B=False, D=False) = 0\n",
        "              (False, False, False): 1, # P(F=False | B=False, D=False) = 1\n",
        "          })\n",
        "\n",
        "\n",
        "bn.prepare()\n"
      ]
    },
    {
      "cell_type": "markdown",
      "metadata": {
        "id": "mhJvWMX_UAR0"
      },
      "source": [
        "**Task 2:** What is the likelihood of F is true if A&D is true, B&C is False?"
      ]
    },
    {
      "cell_type": "code",
      "execution_count": 24,
      "metadata": {
        "colab": {
          "base_uri": "https://localhost:8080/",
          "height": 178
        },
        "id": "sBMJUQgpUAR0",
        "outputId": "9f890e18-de8d-4eb5-dd35-6395339d608c"
      },
      "outputs": [
        {
          "output_type": "execute_result",
          "data": {
            "text/plain": [
              "F\n",
              "False    0.3\n",
              "True     0.7\n",
              "Name: P(F), dtype: float64"
            ],
            "text/html": [
              "<div>\n",
              "<style scoped>\n",
              "    .dataframe tbody tr th:only-of-type {\n",
              "        vertical-align: middle;\n",
              "    }\n",
              "\n",
              "    .dataframe tbody tr th {\n",
              "        vertical-align: top;\n",
              "    }\n",
              "\n",
              "    .dataframe thead th {\n",
              "        text-align: right;\n",
              "    }\n",
              "</style>\n",
              "<table border=\"1\" class=\"dataframe\">\n",
              "  <thead>\n",
              "    <tr style=\"text-align: right;\">\n",
              "      <th></th>\n",
              "      <th>P(F)</th>\n",
              "    </tr>\n",
              "    <tr>\n",
              "      <th>F</th>\n",
              "      <th></th>\n",
              "    </tr>\n",
              "  </thead>\n",
              "  <tbody>\n",
              "    <tr>\n",
              "      <th>False</th>\n",
              "      <td>0.3</td>\n",
              "    </tr>\n",
              "    <tr>\n",
              "      <th>True</th>\n",
              "      <td>0.7</td>\n",
              "    </tr>\n",
              "  </tbody>\n",
              "</table>\n",
              "</div><br><label><b>dtype:</b> float64</label>"
            ]
          },
          "metadata": {},
          "execution_count": 24
        }
      ],
      "source": [
        "bn.query(\"F\", event={\"A\": True, \"B\": True, \"C\": False, \"D\": True})"
      ]
    },
    {
      "cell_type": "markdown",
      "metadata": {
        "id": "1ieqnxrSUAR0"
      },
      "source": [
        "**Task 3:** What is the likelihood of F is False if A&B is False, C&D is True?"
      ]
    },
    {
      "cell_type": "code",
      "execution_count": 25,
      "metadata": {
        "colab": {
          "base_uri": "https://localhost:8080/",
          "height": 178
        },
        "id": "SSLxqnLZUAR0",
        "outputId": "3db16da3-6a9b-4c99-a27a-4683f1f51be0"
      },
      "outputs": [
        {
          "output_type": "execute_result",
          "data": {
            "text/plain": [
              "F\n",
              "False    0.8\n",
              "True     0.2\n",
              "Name: P(F), dtype: float64"
            ],
            "text/html": [
              "<div>\n",
              "<style scoped>\n",
              "    .dataframe tbody tr th:only-of-type {\n",
              "        vertical-align: middle;\n",
              "    }\n",
              "\n",
              "    .dataframe tbody tr th {\n",
              "        vertical-align: top;\n",
              "    }\n",
              "\n",
              "    .dataframe thead th {\n",
              "        text-align: right;\n",
              "    }\n",
              "</style>\n",
              "<table border=\"1\" class=\"dataframe\">\n",
              "  <thead>\n",
              "    <tr style=\"text-align: right;\">\n",
              "      <th></th>\n",
              "      <th>P(F)</th>\n",
              "    </tr>\n",
              "    <tr>\n",
              "      <th>F</th>\n",
              "      <th></th>\n",
              "    </tr>\n",
              "  </thead>\n",
              "  <tbody>\n",
              "    <tr>\n",
              "      <th>False</th>\n",
              "      <td>0.8</td>\n",
              "    </tr>\n",
              "    <tr>\n",
              "      <th>True</th>\n",
              "      <td>0.2</td>\n",
              "    </tr>\n",
              "  </tbody>\n",
              "</table>\n",
              "</div><br><label><b>dtype:</b> float64</label>"
            ]
          },
          "metadata": {},
          "execution_count": 25
        }
      ],
      "source": [
        "bn.query(\"F\", event={\"A\": False, \"B\": False, \"C\": True, \"D\": True})"
      ]
    }
  ],
  "metadata": {
    "colab": {
      "provenance": []
    },
    "kernelspec": {
      "display_name": "Python 3",
      "name": "python3"
    },
    "language_info": {
      "codemirror_mode": {
        "name": "ipython",
        "version": 3
      },
      "file_extension": ".py",
      "mimetype": "text/x-python",
      "name": "python",
      "nbconvert_exporter": "python",
      "pygments_lexer": "ipython3",
      "version": "3.12.0"
    }
  },
  "nbformat": 4,
  "nbformat_minor": 0
}