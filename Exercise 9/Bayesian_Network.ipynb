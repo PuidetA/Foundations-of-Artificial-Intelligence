{
 "cells": [
  {
   "cell_type": "markdown",
   "metadata": {
    "id": "WTt4jy2lV6Cp"
   },
   "source": [
    "# Learn to plot Bayesian Network"
   ]
  },
  {
   "cell_type": "code",
   "execution_count": null,
   "metadata": {
    "id": "Y3CkOET-OhIx"
   },
   "outputs": [],
   "source": [
    "import graphviz\n",
    "\n",
    "dot = graphviz.Digraph(comment='alarm')\n",
    "dot.node('A', 'Burglary')\n",
    "dot.node('B', 'Earthquake')\n",
    "dot.node('C', 'Alarm')\n",
    "dot.node('D', 'John calls')\n",
    "dot.node('E', 'Mary calls')\n",
    "\n",
    "dot.edges(['AC', 'BC', 'CD', 'CE'])"
   ]
  },
  {
   "cell_type": "code",
   "execution_count": null,
   "metadata": {
    "colab": {
     "base_uri": "https://localhost:8080/"
    },
    "id": "M6Er0F5HOyUp",
    "outputId": "c0245428-1af0-4b40-9e12-2dd4f83a1e67"
   },
   "outputs": [],
   "source": [
    "print(dot.source)"
   ]
  },
  {
   "cell_type": "code",
   "execution_count": null,
   "metadata": {
    "colab": {
     "base_uri": "https://localhost:8080/",
     "height": 271
    },
    "id": "khVcYdyoOzZ4",
    "outputId": "7b4fa285-d9fe-4419-d512-abfbf6502cfa"
   },
   "outputs": [],
   "source": [
    "dot.render('round_table', directory='figures', format='svg', cleanup=True, view=True)\n",
    "dot"
   ]
  },
  {
   "cell_type": "markdown",
   "metadata": {
    "id": "sFgyZBvyWBzh"
   },
   "source": [
    "**Task 1: convert the graph to Laplacian matrix (in degree), do this either on paper or just write out the matrix here**"
   ]
  },
  {
   "cell_type": "markdown",
   "metadata": {},
   "source": []
  },
  {
   "cell_type": "markdown",
   "metadata": {
    "id": "fQvG0YBTWIDa"
   },
   "source": [
    "# Bayesian Network consutrction and inference"
   ]
  },
  {
   "cell_type": "markdown",
   "metadata": {
    "id": "Vx9w5VI9WU7x"
   },
   "source": [
    "Read \"alarm.png\" file from the github link, use sorobn to construct the bayesian network"
   ]
  },
  {
   "cell_type": "code",
   "execution_count": null,
   "metadata": {
    "id": "PXaxL3eZPAlg"
   },
   "outputs": [],
   "source": [
    "import sorobn as hh\n",
    "import pandas as pd\n",
    "\n",
    "bn = hh.BayesNet(\n",
    "    ('Burglary', 'Alarm'),\n",
    "    ('Earthquake', 'Alarm'),\n",
    "    ('Alarm', 'John calls'),\n",
    "    ('Alarm', 'Mary calls'),\n",
    "    seed=42\n",
    "  )\n",
    "\n",
    "# P(Burglary)\n",
    "bn.P['Burglary'] = pd.Series({False: .999, True: .001}) # P(Burglary=True) = 0.001, P(Burglary=False) = 0.999\n",
    "\n",
    "# P(Earthquake)\n",
    "bn.P['Earthquake'] = pd.Series({False: .998, True: .002}) # P(Earthquake=True) = 0.002, P(Earthquake=False) = 0.998\n",
    "\n",
    "# P(Alarm | Burglary, Earthquake)\n",
    "bn.P['Alarm'] = pd.Series({\n",
    "              (True, True, True): .95, # P(Alarm=True | Burglary=True, Earthquake=True) = 0.95\n",
    "              (True, True, False): .05, # P(Alarm=False | Burglary=True, Earthquake=True) = 0.05\n",
    "\n",
    "              (True, False, True): .94, # P(Alarm=True | Burglary=True, Earthquake=False) = 0.94\n",
    "              (True, False, False): .06, # P(Alarm=False | Burglary=True, Earthquake=False) = 0.06\n",
    "\n",
    "              (False, True, True): .29, # P(Alarm=True | Burglary=False, Earthquake=True) = 0.29\n",
    "              (False, True, False): .71, # P(Alarm=False | Burglary=False, Earthquake=True) = 0.71\n",
    "\n",
    "              (False, False, True): .001, # P(Alarm=True | Burglary=False, Earthquake=False) = 0.001 \n",
    "              (False, False, False): .999 # P(Alarm=False | Burglary=False, Earthquake=False) = 0.999\n",
    "          })\n",
    "\n",
    "\n",
    "\n",
    "\n",
    "# P(John calls | Alarm)\n",
    "bn.P['John calls'] = pd.Series({\n",
    "     (True, True): .9, # P(John calls=True | Alarm=True) = 0.9\n",
    "     (True, False): .1, # P(John calls=False | Alarm=True) = 0.1\n",
    "     (False, True): .05,  # P(John calls=True | Alarm=False) = 0.05\n",
    "     (False, False): .95  # P(John calls=False | Alarm=False) = 0.95\n",
    " }) \n",
    "\n",
    "# P(Mary calls | Alarm)\n",
    "bn.P['Mary calls'] = pd.Series({\n",
    "     (True, True): .7, # P(Mary calls=True | Alarm=True) = 0.7\n",
    "     (True, False): .3,   # P(Mary calls=False | Alarm=True) = 0.3    \n",
    "     (False, True): .01, # P(Mary calls=True | Alarm=False) = 0.01\n",
    "     (False, False): .99 # P(Mary calls=False | Alarm=False) = 0.99\n",
    " })\n"
   ]
  },
  {
   "cell_type": "markdown",
   "metadata": {
    "id": "PMUZD0buWfBZ"
   },
   "source": [
    "Make the network"
   ]
  },
  {
   "cell_type": "code",
   "execution_count": null,
   "metadata": {
    "id": "6O7-OBvrPT0J"
   },
   "outputs": [],
   "source": [
    "bn.prepare()"
   ]
  },
  {
   "cell_type": "markdown",
   "metadata": {
    "id": "1KKg3JS_WgxB"
   },
   "source": [
    "# Bayesian network inference"
   ]
  },
  {
   "cell_type": "markdown",
   "metadata": {
    "id": "DQMfVStSPXeZ"
   },
   "source": [
    "What is the likelihood of there being a burglary if both John and Mary call?"
   ]
  },
  {
   "cell_type": "code",
   "execution_count": null,
   "metadata": {
    "colab": {
     "base_uri": "https://localhost:8080/"
    },
    "id": "feYONoD5PWPx",
    "outputId": "0869932e-9278-43ce-96f2-34e4b536a0bb"
   },
   "outputs": [],
   "source": [
    "bn.query('Burglary', event={'Mary calls': True, 'John calls': True})"
   ]
  },
  {
   "cell_type": "markdown",
   "metadata": {
    "id": "wueyKGvAPdSh"
   },
   "source": [
    "What are the chances that John and Mary call if an earthquake happens?"
   ]
  },
  {
   "cell_type": "code",
   "execution_count": null,
   "metadata": {
    "colab": {
     "base_uri": "https://localhost:8080/"
    },
    "id": "utk9ZNVePbRJ",
    "outputId": "f8ec1a68-0898-4361-f296-ea310dd27f58"
   },
   "outputs": [],
   "source": [
    "bn.query('John calls', 'Mary calls', event={'Earthquake': True})"
   ]
  },
  {
   "cell_type": "markdown",
   "metadata": {},
   "source": [
    "Practice.png"
   ]
  },
  {
   "cell_type": "code",
   "execution_count": null,
   "metadata": {},
   "outputs": [],
   "source": [
    "bn = hh.BayesNet(\n",
    "    (\"A\", \"B\"),\n",
    "    (\"B\", \"F\"),\n",
    "    (\"C\", \"D\"),\n",
    "    (\"D\", \"F\"),\n",
    "    seed=42,\n",
    ") # Correct connections between nodes, just need to add probabilities like above\n",
    "\n",
    "\n",
    "bn.prepare()"
   ]
  },
  {
   "cell_type": "markdown",
   "metadata": {},
   "source": [
    "**Task 2:** What is the likelihood of F is true if A&D is true, B&C is False?"
   ]
  },
  {
   "cell_type": "code",
   "execution_count": null,
   "metadata": {},
   "outputs": [],
   "source": []
  },
  {
   "cell_type": "markdown",
   "metadata": {},
   "source": [
    "**Task 3:** What is the likelihood of F is False if A&B is False, C&D is True?"
   ]
  },
  {
   "cell_type": "code",
   "execution_count": null,
   "metadata": {},
   "outputs": [],
   "source": []
  }
 ],
 "metadata": {
  "colab": {
   "authorship_tag": "ABX9TyMD6irWyOsY7s+99aB0IiMz",
   "include_colab_link": true,
   "provenance": []
  },
  "kernelspec": {
   "display_name": "Python 3",
   "name": "python3"
  },
  "language_info": {
   "codemirror_mode": {
    "name": "ipython",
    "version": 3
   },
   "file_extension": ".py",
   "mimetype": "text/x-python",
   "name": "python",
   "nbconvert_exporter": "python",
   "pygments_lexer": "ipython3",
   "version": "3.12.0"
  }
 },
 "nbformat": 4,
 "nbformat_minor": 0
}
