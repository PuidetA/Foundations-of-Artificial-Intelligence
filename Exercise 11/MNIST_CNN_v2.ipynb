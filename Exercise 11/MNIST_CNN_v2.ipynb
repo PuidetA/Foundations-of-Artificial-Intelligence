{
 "cells": [
  {
   "cell_type": "code",
   "execution_count": 1,
   "metadata": {
    "id": "0zAXY0BahAZP"
   },
   "outputs": [],
   "source": [
    "import numpy as np # to handle matrix and data operation\n",
    "import pandas as pd # to read csv and handle dataframe\n",
    "\n",
    "import torch # to load pytorch library\n",
    "import torch.nn as nn # to load pytorch library\n",
    "import torch.nn.functional as F # to load pytorch function\n",
    "import torch.utils.data # to load data processor\n",
    "from torch.autograd import Variable # pytorch data type\n",
    "from torchvision import datasets, transforms\n",
    "import matplotlib.pyplot as plt"
   ]
  },
  {
   "cell_type": "code",
   "execution_count": 2,
   "metadata": {
    "colab": {
     "base_uri": "https://localhost:8080/",
     "height": 512
    },
    "id": "G-aRxXJChPWP",
    "outputId": "d4b73549-bfba-4252-b3de-5a7ebe031a23"
   },
   "outputs": [
    {
     "name": "stdout",
     "output_type": "stream",
     "text": [
      "<class 'pandas.core.frame.DataFrame'>\n",
      "RangeIndex: 59999 entries, 0 to 59998\n",
      "Columns: 785 entries, 5 to 0.617\n",
      "dtypes: int64(785)\n",
      "memory usage: 359.3 MB\n",
      "<class 'pandas.core.frame.DataFrame'>\n",
      "RangeIndex: 9999 entries, 0 to 9998\n",
      "Columns: 785 entries, 7 to 0.667\n",
      "dtypes: int64(785)\n",
      "memory usage: 59.9 MB\n"
     ]
    },
    {
     "data": {
      "image/png": "[encoded data removed]",
      "text/plain": [
       "<Figure size 640x480 with 10 Axes>"
      ]
     },
     "metadata": {},
     "output_type": "display_data"
    }
   ],
   "source": [
    "train = pd.read_csv('mnist_data/mnist_train.csv')\n",
    "test = pd.read_csv('mnist_data/mnist_test.csv')\n",
    "train.info()\n",
    "test.info()\n",
    "\n",
    "# split image and label\n",
    "train_label = train.iloc[:, 0].values\n",
    "train_img = train.iloc[:, 1:]\n",
    "test_label = test.iloc[:, 0].values\n",
    "test_img = test.iloc[:, 1:]\n",
    "# check the dataset of one example\n",
    "count=1\n",
    "for a in range (10):\n",
    "    imarray = train_img.iloc[a, :].values.reshape(28,28)\n",
    "    plt.subplot(2,5,count)\n",
    "    plt.subplots_adjust(hspace=0.1)\n",
    "    count += 1\n",
    "    plt.axis('off')\n",
    "    plt.title(\"Label is \" + str(train_label[a]))\n",
    "    plt.imshow(imarray, cmap='Greys', interpolation='None')"
   ]
  },
  {
   "cell_type": "code",
   "execution_count": 3,
   "metadata": {
    "colab": {
     "base_uri": "https://localhost:8080/"
    },
    "id": "CvZxRF28hUkz",
    "outputId": "b418991d-6473-4b20-b497-ec476e79d14c"
   },
   "outputs": [
    {
     "name": "stdout",
     "output_type": "stream",
     "text": [
      "(59999, 1, 28, 28)\n",
      "(59999,)\n",
      "(9999, 1, 28, 28)\n",
      "(9999,)\n"
     ]
    }
   ],
   "source": [
    "# reshape to be [samples][pixels][width][height]\n",
    "train_img = train_img.values.reshape(-1,1,28,28)\n",
    "test_img = test_img.values.reshape(-1,1,28,28)\n",
    "train_img = train_img / 255.0\n",
    "test_img = test_img / 255.0\n",
    "# normalize inputs from 0-255 to 0-1\n",
    "print(train_img.shape)\n",
    "print(train_label.shape)\n",
    "print(test_img.shape)\n",
    "print(test_label.shape)\n",
    "\n",
    "BATCH_SIZE = 1000\n",
    "\n",
    "# create feature and targets tensor for training set.\n",
    "torch_X_train = torch.from_numpy(train_img).float()\n",
    "torch_y_train = torch.from_numpy(train_label)\n",
    "# create feature and targets tensor for testing set.\n",
    "torch_X_test = torch.from_numpy(test_img).float()\n",
    "torch_y_test = torch.from_numpy(test_label)\n",
    "# Pytorch train and test sets\n",
    "train = torch.utils.data.TensorDataset(torch_X_train,torch_y_train)\n",
    "test = torch.utils.data.TensorDataset(torch_X_test,torch_y_test)\n",
    "\n",
    "# data loader\n",
    "train_loader = torch.utils.data.DataLoader(train, batch_size = BATCH_SIZE, shuffle = False, num_workers=4)\n",
    "test_loader = torch.utils.data.DataLoader(test, batch_size = BATCH_SIZE, shuffle = False, num_workers=4)"
   ]
  },
  {
   "cell_type": "code",
   "execution_count": 4,
   "metadata": {
    "id": "9rh_GbUehYNi"
   },
   "outputs": [],
   "source": [
    "# Defining the network (LeNet-5)\n",
    "class LeNet5(nn.Module):\n",
    "    #This defines the structure of the NN.\n",
    "    def __init__(self):\n",
    "        super(LeNet5, self).__init__()\n",
    "        self.conv1 = nn.Conv2d(in_channels=1, out_channels=6, kernel_size=5, stride=1, padding=2)\n",
    "        self.act1 = nn.ReLU()\n",
    "        self.maxpool1 = nn.MaxPool2d(kernel_size=2, stride=2, padding=0)\n",
    "        self.conv2 = nn.Conv2d(in_channels=6, out_channels=16, kernel_size=5, stride=1, padding=0)\n",
    "        self.act2 = nn.ReLU()\n",
    "        self.maxpool2 = nn.MaxPool2d(kernel_size=2, stride=2, padding=0)\n",
    "        self.fc1 = nn.Linear(in_features=400, out_features=120)\n",
    "        self.act3 = nn.ReLU()\n",
    "        self.fc2 = nn.Linear(in_features=120, out_features=84)\n",
    "        self.act4 = nn.ReLU()\n",
    "        self.fc3 = nn.Linear(in_features=84, out_features=10)\n",
    "\n",
    "    def forward(self, x):\n",
    "        #Convolutional Layer/Pooling Layer/Activation\n",
    "        x = self.conv1(x)\n",
    "        x = self.act1(x)\n",
    "        x = self.maxpool1(x)\n",
    "        #Convolutional Layer/Dropout/Pooling Layer/Activation\n",
    "        x = self.conv2(x)\n",
    "        x = self.act2(x)\n",
    "        x = self.maxpool2(x)\n",
    "        x = x.view(-1, 400)\n",
    "        #Fully Connected Layer/Activation\n",
    "        x = self.fc1(x)\n",
    "        x = self.act3(x)\n",
    "        #Fully Connected Layer/Activation\n",
    "        x = self.fc2(x)\n",
    "        x = self.act4(x)\n",
    "\n",
    "        return self.fc3(x)\n",
    "\n",
    "criterion = nn.CrossEntropyLoss()\n",
    "if torch.cuda.is_available():\n",
    "    criterion = criterion.cuda()\n"
   ]
  },
  {
   "cell_type": "code",
   "execution_count": 5,
   "metadata": {
    "id": "2iOfZhr3ha96"
   },
   "outputs": [],
   "source": [
    "def train(model, epoch, optimizer):\n",
    "    model.train()\n",
    "    epoch_loss = 0\n",
    "    for batch_idx, (data, target) in enumerate(train_loader):\n",
    "        if torch.cuda.is_available():\n",
    "            data, target = data.cuda(), target.cuda()\n",
    "        #Variables in Pytorch are differenciable.\n",
    "        data, target = Variable(data), Variable(target)\n",
    "        #This will zero out the gradients for this batch.\n",
    "        optimizer.zero_grad()\n",
    "        output = model(data)\n",
    "        # Calculate the loss The negative log likelihood loss. It is useful to train a classification problem with C classes.\n",
    "        loss = criterion(output, target)\n",
    "        #dloss/dx for every Variable\n",
    "        loss.backward()\n",
    "        #to do a one-step update on our parameter.\n",
    "        optimizer.step()\n",
    "        epoch_loss += loss.item()\n",
    "    #Print out the loss periodically.\n",
    "    avg_loss = epoch_loss / len(train_loader)\n",
    "    print(\"===> Epoch {} Complete: Training loss: {:.4f}\".format(epoch, avg_loss))\n",
    "    return avg_loss"
   ]
  },
  {
   "cell_type": "code",
   "execution_count": 6,
   "metadata": {
    "id": "gstt8Y-0hf_i"
   },
   "outputs": [],
   "source": [
    "def train_accuracy(model, epoch):\n",
    "    model.eval()\n",
    "    correct = 0\n",
    "    for batch_idx, (data, target) in enumerate(train_loader):\n",
    "        if torch.cuda.is_available():\n",
    "            data, target = data.cuda(), target.cuda()\n",
    "        data, target = Variable(data), Variable(target)\n",
    "        with torch.no_grad():\n",
    "            output = model(data)\n",
    "        _, predicted = torch.max(output.data, 1) # get the index of the max log-probability\n",
    "        correct += (predicted == target).sum().item()\n",
    "    avg_accuracy = correct / len(train_loader.dataset)\n",
    "    print(\"===> Epoch {} Complete: Training accuracy: {:.4f}%\".format(epoch, 100. * avg_accuracy))\n",
    "    return avg_accuracy"
   ]
  },
  {
   "cell_type": "code",
   "execution_count": 7,
   "metadata": {
    "id": "ODqVkCikhify"
   },
   "outputs": [],
   "source": [
    "def test(model, epoch):\n",
    "    model.eval()\n",
    "    correct = 0\n",
    "    for batch_idx, (data, target) in enumerate(test_loader):\n",
    "        if torch.cuda.is_available():\n",
    "            data, target = data.cuda(), target.cuda()\n",
    "            \n",
    "        data, target = Variable(data), Variable(target)\n",
    "        with torch.no_grad():\n",
    "            output = model(data)\n",
    "        _, predicted = torch.max(output.data, 1) # get the index of the max log-probability\n",
    "        correct += (predicted == target).sum().item()\n",
    "    avg_accuracy = correct / len(test_loader.dataset)\n",
    "    print(\"===> Epoch {} Complete: Testing accuracy: {:.4f}%\".format(epoch, 100. * avg_accuracy))\n",
    "    return avg_accuracy"
   ]
  },
  {
   "cell_type": "code",
   "execution_count": 8,
   "metadata": {
    "id": "lnIgmDWFhk8S"
   },
   "outputs": [],
   "source": [
    "def checkpoint(model, epoch):\n",
    "    model_out_path = \"Training_epoch_{}.pth\".format(epoch)\n",
    "    torch.save(model.state_dict(), model_out_path)\n",
    "    print(\"Checkpoint saved to {}\".format(model_out_path))"
   ]
  },
  {
   "cell_type": "code",
   "execution_count": null,
   "metadata": {
    "id": "baPErjlblmGk"
   },
   "outputs": [],
   "source": [
    "model = LeNet5()\n",
    "\n",
    "if torch.cuda.is_available():\n",
    "    model.cuda() # set model to use GPU if available, defaults to CPU\n",
    "\n",
    "\n",
    "optimizer = torch.optim.SGD(model.parameters(), lr=0.01, momentum=0.5)"
   ]
  },
  {
   "cell_type": "markdown",
   "metadata": {
    "id": "9kKa6DMplsns"
   },
   "source": [
    "**Task 1:**  A full loop that records the training loss and testing accuracy"
   ]
  },
  {
   "cell_type": "code",
   "execution_count": 10,
   "metadata": {
    "colab": {
     "base_uri": "https://localhost:8080/"
    },
    "id": "YGDciRxfhoI9",
    "outputId": "2685c6f5-c29b-4b04-f01c-fbdeaeeca258"
   },
   "outputs": [
    {
     "name": "stdout",
     "output_type": "stream",
     "text": [
      "===> Epoch 1 Complete: Training loss: 2.3022\n",
      "===> Epoch 1 Complete: Training accuracy: 9.8635%\n",
      "===> Epoch 1 Complete: Testing accuracy: 9.5810%\n",
      "===> Epoch 2 Complete: Training loss: 2.2980\n",
      "===> Epoch 2 Complete: Training accuracy: 9.8635%\n",
      "===> Epoch 2 Complete: Testing accuracy: 9.5810%\n",
      "===> Epoch 3 Complete: Training loss: 2.2929\n",
      "===> Epoch 3 Complete: Training accuracy: 11.6985%\n",
      "===> Epoch 3 Complete: Testing accuracy: 11.2411%\n",
      "===> Epoch 4 Complete: Training loss: 2.2854\n",
      "===> Epoch 4 Complete: Training accuracy: 30.9288%\n",
      "===> Epoch 4 Complete: Testing accuracy: 30.4830%\n",
      "===> Epoch 5 Complete: Training loss: 2.2719\n",
      "===> Epoch 5 Complete: Training accuracy: 41.0190%\n",
      "===> Epoch 5 Complete: Testing accuracy: 40.0040%\n",
      "===> Epoch 6 Complete: Training loss: 2.2422\n",
      "===> Epoch 6 Complete: Training accuracy: 42.1440%\n",
      "===> Epoch 6 Complete: Testing accuracy: 41.4141%\n",
      "===> Epoch 7 Complete: Training loss: 2.1422\n",
      "===> Epoch 7 Complete: Training accuracy: 48.1725%\n",
      "===> Epoch 7 Complete: Testing accuracy: 48.4748%\n",
      "===> Epoch 8 Complete: Training loss: 1.6870\n",
      "===> Epoch 8 Complete: Training accuracy: 66.8478%\n",
      "===> Epoch 8 Complete: Testing accuracy: 67.4167%\n",
      "===> Epoch 9 Complete: Training loss: 0.9249\n",
      "===> Epoch 9 Complete: Training accuracy: 79.6130%\n",
      "===> Epoch 9 Complete: Testing accuracy: 80.0580%\n",
      "===> Epoch 10 Complete: Training loss: 0.6046\n",
      "===> Epoch 10 Complete: Training accuracy: 83.6947%\n",
      "===> Epoch 10 Complete: Testing accuracy: 83.9984%\n",
      "Checkpoint saved to Training_epoch_10.pth\n",
      "===> Epoch 11 Complete: Training loss: 0.4837\n",
      "===> Epoch 11 Complete: Training accuracy: 86.5348%\n",
      "===> Epoch 11 Complete: Testing accuracy: 87.2987%\n",
      "===> Epoch 12 Complete: Training loss: 0.4125\n",
      "===> Epoch 12 Complete: Training accuracy: 88.3731%\n",
      "===> Epoch 12 Complete: Testing accuracy: 89.1089%\n",
      "===> Epoch 13 Complete: Training loss: 0.3657\n",
      "===> Epoch 13 Complete: Training accuracy: 89.5898%\n",
      "===> Epoch 13 Complete: Testing accuracy: 90.3090%\n",
      "===> Epoch 14 Complete: Training loss: 0.3325\n",
      "===> Epoch 14 Complete: Training accuracy: 90.5265%\n",
      "===> Epoch 14 Complete: Testing accuracy: 90.9691%\n",
      "===> Epoch 15 Complete: Training loss: 0.3067\n",
      "===> Epoch 15 Complete: Training accuracy: 91.2349%\n",
      "===> Epoch 15 Complete: Testing accuracy: 91.7692%\n",
      "===> Epoch 16 Complete: Training loss: 0.2853\n",
      "===> Epoch 16 Complete: Training accuracy: 91.8065%\n",
      "===> Epoch 16 Complete: Testing accuracy: 92.3192%\n",
      "===> Epoch 17 Complete: Training loss: 0.2669\n",
      "===> Epoch 17 Complete: Training accuracy: 92.3015%\n",
      "===> Epoch 17 Complete: Testing accuracy: 92.8993%\n",
      "===> Epoch 18 Complete: Training loss: 0.2504\n",
      "===> Epoch 18 Complete: Training accuracy: 92.7332%\n",
      "===> Epoch 18 Complete: Testing accuracy: 93.2593%\n",
      "===> Epoch 19 Complete: Training loss: 0.2357\n",
      "===> Epoch 19 Complete: Training accuracy: 93.1699%\n",
      "===> Epoch 19 Complete: Testing accuracy: 93.6694%\n",
      "===> Epoch 20 Complete: Training loss: 0.2222\n",
      "===> Epoch 20 Complete: Training accuracy: 93.5649%\n",
      "===> Epoch 20 Complete: Testing accuracy: 94.0894%\n",
      "Checkpoint saved to Training_epoch_20.pth\n",
      "===> Epoch 21 Complete: Training loss: 0.2099\n",
      "===> Epoch 21 Complete: Training accuracy: 93.9332%\n",
      "===> Epoch 21 Complete: Testing accuracy: 94.4394%\n",
      "===> Epoch 22 Complete: Training loss: 0.1988\n",
      "===> Epoch 22 Complete: Training accuracy: 94.2499%\n",
      "===> Epoch 22 Complete: Testing accuracy: 94.6995%\n",
      "===> Epoch 23 Complete: Training loss: 0.1888\n",
      "===> Epoch 23 Complete: Training accuracy: 94.5332%\n",
      "===> Epoch 23 Complete: Testing accuracy: 94.9195%\n",
      "===> Epoch 24 Complete: Training loss: 0.1797\n",
      "===> Epoch 24 Complete: Training accuracy: 94.8216%\n",
      "===> Epoch 24 Complete: Testing accuracy: 95.1295%\n",
      "===> Epoch 25 Complete: Training loss: 0.1715\n",
      "===> Epoch 25 Complete: Training accuracy: 95.0533%\n",
      "===> Epoch 25 Complete: Testing accuracy: 95.3595%\n",
      "===> Epoch 26 Complete: Training loss: 0.1638\n",
      "===> Epoch 26 Complete: Training accuracy: 95.2483%\n",
      "===> Epoch 26 Complete: Testing accuracy: 95.5196%\n",
      "===> Epoch 27 Complete: Training loss: 0.1568\n",
      "===> Epoch 27 Complete: Training accuracy: 95.4366%\n",
      "===> Epoch 27 Complete: Testing accuracy: 95.7296%\n",
      "===> Epoch 28 Complete: Training loss: 0.1504\n",
      "===> Epoch 28 Complete: Training accuracy: 95.5716%\n",
      "===> Epoch 28 Complete: Testing accuracy: 95.8796%\n",
      "===> Epoch 29 Complete: Training loss: 0.1446\n",
      "===> Epoch 29 Complete: Training accuracy: 95.7533%\n",
      "===> Epoch 29 Complete: Testing accuracy: 95.9296%\n",
      "===> Epoch 30 Complete: Training loss: 0.1392\n",
      "===> Epoch 30 Complete: Training accuracy: 95.9349%\n",
      "===> Epoch 30 Complete: Testing accuracy: 96.0796%\n",
      "Checkpoint saved to Training_epoch_30.pth\n",
      "===> Epoch 31 Complete: Training loss: 0.1342\n",
      "===> Epoch 31 Complete: Training accuracy: 96.0633%\n",
      "===> Epoch 31 Complete: Testing accuracy: 96.2296%\n",
      "===> Epoch 32 Complete: Training loss: 0.1296\n",
      "===> Epoch 32 Complete: Training accuracy: 96.1883%\n",
      "===> Epoch 32 Complete: Testing accuracy: 96.3896%\n",
      "===> Epoch 33 Complete: Training loss: 0.1254\n",
      "===> Epoch 33 Complete: Training accuracy: 96.3266%\n",
      "===> Epoch 33 Complete: Testing accuracy: 96.5397%\n",
      "===> Epoch 34 Complete: Training loss: 0.1215\n",
      "===> Epoch 34 Complete: Training accuracy: 96.4216%\n",
      "===> Epoch 34 Complete: Testing accuracy: 96.6297%\n",
      "===> Epoch 35 Complete: Training loss: 0.1179\n",
      "===> Epoch 35 Complete: Training accuracy: 96.5066%\n",
      "===> Epoch 35 Complete: Testing accuracy: 96.7397%\n",
      "===> Epoch 36 Complete: Training loss: 0.1145\n",
      "===> Epoch 36 Complete: Training accuracy: 96.5783%\n",
      "===> Epoch 36 Complete: Testing accuracy: 96.8297%\n",
      "===> Epoch 37 Complete: Training loss: 0.1114\n",
      "===> Epoch 37 Complete: Training accuracy: 96.6666%\n",
      "===> Epoch 37 Complete: Testing accuracy: 96.9097%\n",
      "===> Epoch 38 Complete: Training loss: 0.1085\n",
      "===> Epoch 38 Complete: Training accuracy: 96.7166%\n",
      "===> Epoch 38 Complete: Testing accuracy: 96.9997%\n",
      "===> Epoch 39 Complete: Training loss: 0.1057\n",
      "===> Epoch 39 Complete: Training accuracy: 96.8166%\n",
      "===> Epoch 39 Complete: Testing accuracy: 97.0197%\n",
      "===> Epoch 40 Complete: Training loss: 0.1031\n",
      "===> Epoch 40 Complete: Training accuracy: 96.8666%\n",
      "===> Epoch 40 Complete: Testing accuracy: 97.0697%\n",
      "Checkpoint saved to Training_epoch_40.pth\n",
      "===> Epoch 41 Complete: Training loss: 0.1007\n",
      "===> Epoch 41 Complete: Training accuracy: 96.9383%\n",
      "===> Epoch 41 Complete: Testing accuracy: 97.1397%\n",
      "===> Epoch 42 Complete: Training loss: 0.0985\n",
      "===> Epoch 42 Complete: Training accuracy: 96.9933%\n",
      "===> Epoch 42 Complete: Testing accuracy: 97.1497%\n",
      "===> Epoch 43 Complete: Training loss: 0.0964\n",
      "===> Epoch 43 Complete: Training accuracy: 97.0500%\n",
      "===> Epoch 43 Complete: Testing accuracy: 97.1997%\n",
      "===> Epoch 44 Complete: Training loss: 0.0943\n",
      "===> Epoch 44 Complete: Training accuracy: 97.1033%\n",
      "===> Epoch 44 Complete: Testing accuracy: 97.2797%\n",
      "===> Epoch 45 Complete: Training loss: 0.0924\n",
      "===> Epoch 45 Complete: Training accuracy: 97.1566%\n",
      "===> Epoch 45 Complete: Testing accuracy: 97.3097%\n",
      "===> Epoch 46 Complete: Training loss: 0.0906\n",
      "===> Epoch 46 Complete: Training accuracy: 97.2166%\n",
      "===> Epoch 46 Complete: Testing accuracy: 97.3297%\n",
      "===> Epoch 47 Complete: Training loss: 0.0889\n",
      "===> Epoch 47 Complete: Training accuracy: 97.2666%\n",
      "===> Epoch 47 Complete: Testing accuracy: 97.3397%\n",
      "===> Epoch 48 Complete: Training loss: 0.0873\n",
      "===> Epoch 48 Complete: Training accuracy: 97.3250%\n",
      "===> Epoch 48 Complete: Testing accuracy: 97.3397%\n",
      "===> Epoch 49 Complete: Training loss: 0.0857\n",
      "===> Epoch 49 Complete: Training accuracy: 97.3683%\n",
      "===> Epoch 49 Complete: Testing accuracy: 97.3997%\n",
      "===> Epoch 50 Complete: Training loss: 0.0842\n",
      "===> Epoch 50 Complete: Training accuracy: 97.4116%\n",
      "===> Epoch 50 Complete: Testing accuracy: 97.4197%\n",
      "Checkpoint saved to Training_epoch_50.pth\n"
     ]
    }
   ],
   "source": [
    "train_losses = []\n",
    "train_correct = []\n",
    "test_correct = []\n",
    "for epoch in range(1, 51, 1):\n",
    "    # Training loss\n",
    "    train_loss = train(model, epoch, optimizer)\n",
    "    train_losses.append(train_loss)\n",
    "    \n",
    "    # Training accuracy\n",
    "    train_acc = train_accuracy(model, epoch)\n",
    "    train_correct.append(train_acc)\n",
    "    \n",
    "    # Testing accuracy\n",
    "    test_acc = test(model, epoch)\n",
    "    test_correct.append(test_acc)\n",
    "    \n",
    "    if epoch % 10 == 0:\n",
    "        # Model checkpointing\n",
    "        checkpoint(model, epoch)\n"
   ]
  },
  {
   "cell_type": "markdown",
   "metadata": {
    "id": "dCai4MeblzuS"
   },
   "source": [
    "**Task 2.** Plot the training loss and testing accuracy VS epoches"
   ]
  },
  {
   "cell_type": "code",
   "execution_count": 22,
   "metadata": {
    "colab": {
     "base_uri": "https://localhost:8080/",
     "height": 449
    },
    "id": "2odo4kQCj9hV",
    "outputId": "dca1d7c5-00d3-4f5f-c22e-2f47a8ca6a1b"
   },
   "outputs": [
    {
     "data": {
      "image/png": "[encoded data removed]",
      "text/plain": [
       "<Figure size 1200x500 with 2 Axes>"
      ]
     },
     "metadata": {},
     "output_type": "display_data"
    }
   ],
   "source": [
    "# Plotting the training loss and testing accuracy vs epochs\n",
    "epoch_count = range(1, 51)\n",
    "\n",
    "plt.figure(figsize=(12, 5))\n",
    "\n",
    "# Plot training loss\n",
    "plt.subplot(1, 2, 1)\n",
    "plt.plot(epoch_count, train_losses, label='Training Loss')\n",
    "plt.title('Training Loss vs Epochs')\n",
    "plt.ylabel('Loss')\n",
    "plt.xlabel('Epochs')\n",
    "plt.legend()\n",
    "\n",
    "# Plot testing accuracy\n",
    "plt.subplot(1, 2, 2)\n",
    "plt.plot(epoch_count, test_correct, label='Testing Accuracy')\n",
    "plt.title('Testing Accuracy vs Epochs')\n",
    "plt.ylabel('Accuracy')\n",
    "plt.xlabel('Epochs')\n",
    "plt.legend()\n",
    "\n",
    "plt.show()"
   ]
  },
  {
   "cell_type": "markdown",
   "metadata": {
    "id": "YlOyEw7Gl616"
   },
   "source": [
    "**Task 3.** load pre-trained model and visualize the prediction on the testing samples."
   ]
  },
  {
   "cell_type": "code",
   "execution_count": 14,
   "metadata": {
    "colab": {
     "base_uri": "https://localhost:8080/",
     "height": 324
    },
    "id": "CGmxuqTikBtK",
    "outputId": "c052d562-7630-47de-e52c-e4133754aaf7"
   },
   "outputs": [
    {
     "name": "stderr",
     "output_type": "stream",
     "text": [
      "C:\\Users\\Arlis Arto Puidet\\AppData\\Local\\Temp\\ipykernel_19944\\773316961.py:2: FutureWarning: You are using `torch.load` with `weights_only=False` (the current default value), which uses the default pickle module implicitly. It is possible to construct malicious pickle data which will execute arbitrary code during unpickling (See https://github.com/pytorch/pytorch/blob/main/SECURITY.md#untrusted-models for more details). In a future release, the default value for `weights_only` will be flipped to `True`. This limits the functions that could be executed during unpickling. Arbitrary objects will no longer be allowed to be loaded via this mode unless they are explicitly allowlisted by the user via `torch.serialization.add_safe_globals`. We recommend you start setting `weights_only=True` for any use case where you don't have full control of the loaded file. Please open an issue on GitHub for any issues related to this experimental feature.\n",
      "  model.load_state_dict(torch.load(model_name, map_location=lambda storage, loc: storage)) # load the trained model\n"
     ]
    },
    {
     "data": {
      "image/png": "[encoded data removed]",
      "text/plain": [
       "<Figure size 640x480 with 10 Axes>"
      ]
     },
     "metadata": {},
     "output_type": "display_data"
    }
   ],
   "source": [
    "model_name = 'Training_epoch_50.pth'\n",
    "model.load_state_dict(torch.load(model_name, map_location=lambda storage, loc: storage)) # load the trained model\n",
    "count=1\n",
    "model.eval()\n",
    "for a in range (10):\n",
    "    imarray = test_img[a].reshape(1,1,28,28)\n",
    "    data = torch.from_numpy(imarray).float()\n",
    "    if torch.cuda.is_available():\n",
    "        data = data.cuda()\n",
    "\n",
    "    # Fill here:\n",
    "    # Input the image to the loaded model\n",
    "    output = model(data)\n",
    "    # Get the predicted class labels using argmax or max on the model output\n",
    "    _, predicted = torch.max(output.data, 1)\n",
    "\n",
    "    \n",
    "    plt.subplot(2,5,count)\n",
    "    plt.subplots_adjust(hspace=0.2, wspace = 0.6)\n",
    "    count += 1\n",
    "    plt.axis('off')\n",
    "    plt.title('GT: ' + str(test_label[a]) + ' Pred: ' + str(predicted.item()), fontsize=10)\n",
    "    plt.imshow(imarray[0,0,:,:], cmap='Greys', interpolation='None')"
   ]
  },
  {
   "cell_type": "markdown",
   "metadata": {
    "id": "APdVVpOmmO27"
   },
   "source": [
    "**Task 4.** Change the learning rate and retrain the model again, plot the new training loss and original training loss in one figure and explain your discovery."
   ]
  },
  {
   "cell_type": "code",
   "execution_count": null,
   "metadata": {},
   "outputs": [],
   "source": [
    "model2 = LeNet5() # initialize a new model\n",
    "if torch.cuda.is_available():\n",
    "    model2.cuda() # Move the model to GPU if available\n",
    "optimizer2 = ... # Fill a new optimizer"
   ]
  },
  {
   "cell_type": "code",
   "execution_count": null,
   "metadata": {},
   "outputs": [],
   "source": [
    "train_losses = []\n",
    "train_correct = []\n",
    "test_correct = []\n",
    "\n",
    "for epoch in range(1, 51, 1):\n",
    "    # Training loss\n",
    "    # Training accuracy\n",
    "    # Test accuracy\n",
    "    ...\n"
   ]
  },
  {
   "cell_type": "markdown",
   "metadata": {},
   "source": [
    "Plot accuracies and loss"
   ]
  },
  {
   "cell_type": "code",
   "execution_count": null,
   "metadata": {},
   "outputs": [],
   "source": []
  }
 ],
 "metadata": {
  "accelerator": "GPU",
  "colab": {
   "authorship_tag": "ABX9TyNev4JErWTdHCU018SZjzaD",
   "gpuType": "T4",
   "include_colab_link": true,
   "provenance": []
  },
  "kernelspec": {
   "display_name": ".venv",
   "language": "python",
   "name": "python3"
  },
  "language_info": {
   "codemirror_mode": {
    "name": "ipython",
    "version": 3
   },
   "file_extension": ".py",
   "mimetype": "text/x-python",
   "name": "python",
   "nbconvert_exporter": "python",
   "pygments_lexer": "ipython3",
   "version": "3.12.2"
  }
 },
 "nbformat": 4,
 "nbformat_minor": 0
}
